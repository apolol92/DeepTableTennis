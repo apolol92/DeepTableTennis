{
 "cells": [
  {
   "cell_type": "code",
   "execution_count": 1,
   "metadata": {
    "collapsed": true
   },
   "outputs": [],
   "source": [
    "import numpy as np\n",
    "import cv2\n",
    "import os\n",
    "import matplotlib.pyplot as plt\n",
    "import random"
   ]
  },
  {
   "cell_type": "code",
   "execution_count": 2,
   "metadata": {
    "collapsed": true
   },
   "outputs": [],
   "source": [
    "backgrounds = os.listdir(\"backgrounds\")\n",
    "for i in range(0,len(backgrounds)):\n",
    "    backgrounds[i] = \"backgrounds/\"+str(backgrounds[i])"
   ]
  },
  {
   "cell_type": "code",
   "execution_count": 6,
   "metadata": {
    "collapsed": false
   },
   "outputs": [],
   "source": [
    "img_width = 160\n",
    "img_height = 120\n",
    "i = 0\n",
    "while i < len(backgrounds):\n",
    "    imgBackNumber = i#random.randint(0,len(backgrounds)-1)\n",
    "    background = cv2.resize(cv2.imread(backgrounds[imgBackNumber],cv2.IMREAD_GRAYSCALE ), (img_width, img_height))\n",
    "    cv2.imwrite(\"output_no_balls/\"+str(i)+\".png\",background)\n",
    "    i+=1"
   ]
  },
  {
   "cell_type": "code",
   "execution_count": null,
   "metadata": {
    "collapsed": true
   },
   "outputs": [],
   "source": []
  }
 ],
 "metadata": {
  "kernelspec": {
   "display_name": "Python 3",
   "language": "python",
   "name": "python3"
  },
  "language_info": {
   "codemirror_mode": {
    "name": "ipython",
    "version": 3
   },
   "file_extension": ".py",
   "mimetype": "text/x-python",
   "name": "python",
   "nbconvert_exporter": "python",
   "pygments_lexer": "ipython3",
   "version": "3.5.3"
  }
 },
 "nbformat": 4,
 "nbformat_minor": 2
}
