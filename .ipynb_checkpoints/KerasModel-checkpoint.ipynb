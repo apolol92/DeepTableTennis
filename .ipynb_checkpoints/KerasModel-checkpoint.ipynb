{
 "cells": [
  {
   "cell_type": "code",
   "execution_count": 2,
   "metadata": {
    "collapsed": false,
    "deletable": true,
    "editable": true
   },
   "outputs": [],
   "source": [
    "import numpy as np\n",
    "import cv2\n",
    "import os\n",
    "import random\n",
    "from keras.models import Sequential, model_from_json\n",
    "from keras.layers import Dense, Dropout\n",
    "from keras.layers import Embedding\n",
    "from keras.layers import Conv2D, GlobalAveragePooling1D, MaxPooling2D,Flatten"
   ]
  },
  {
   "cell_type": "code",
   "execution_count": 10,
   "metadata": {
    "collapsed": false,
    "deletable": true,
    "editable": true
   },
   "outputs": [],
   "source": [
    "paths = os.listdir(\"output\")\n",
    "imgs = []\n",
    "outputs = []\n",
    "for i in range(0,len(paths)):\n",
    "    tmp = \"output/\"+str(paths[i])\n",
    "    imgs.append(cv2.imread(tmp,cv2.IMREAD_GRAYSCALE ))\n",
    "    parts = paths[i].split(\"_\")\n",
    "    parts[2] = parts[2].split(\".\")[0]\n",
    "    outputs.append([int(parts[0]),int(parts[1]),int(parts[2])])\n",
    "    #print([int(parts[0]),int(parts[1]),int(parts[2])])\n",
    "x_train = np.array(imgs)[0:int(len(paths)*0.8)]\n",
    "y_train = np.array(outputs)[0:int(len(paths)*0.8)]\n",
    "x_test = np.array(imgs)[int(len(paths)*0.8):]\n",
    "y_test = np.array(outputs)[int(len(paths)*0.8):]\n",
    "#x_train = np.random.random((100, 480, 640, 1))\n",
    "#y_train = np.random.random((1000, 3))\n",
    "#y_train.shape"
   ]
  },
  {
   "cell_type": "code",
   "execution_count": 11,
   "metadata": {
    "collapsed": false,
    "deletable": true,
    "editable": true
   },
   "outputs": [
    {
     "name": "stdout",
     "output_type": "stream",
     "text": [
      "(80, 120, 160)\n",
      "(80, 3)\n",
      "(20, 120, 160)\n",
      "(20, 3)\n",
      "(80, 120, 160, 1)\n",
      "(80, 3)\n",
      "(20, 120, 160, 1)\n",
      "(20, 3)\n"
     ]
    }
   ],
   "source": [
    "print(x_train.shape)\n",
    "print(y_train.shape)\n",
    "print(x_test.shape)\n",
    "print(y_test.shape)\n",
    "x_train = x_train.reshape(x_train.shape[0], x_train.shape[1], x_train.shape[2], 1)\n",
    "x_test = x_test.reshape(x_test.shape[0], x_test.shape[1], x_test.shape[2], 1)\n",
    "print(x_train.shape)\n",
    "print(y_train.shape)\n",
    "print(x_test.shape)\n",
    "print(y_test.shape)"
   ]
  },
  {
   "cell_type": "code",
   "execution_count": 12,
   "metadata": {
    "collapsed": false,
    "deletable": true,
    "editable": true
   },
   "outputs": [
    {
     "name": "stdout",
     "output_type": "stream",
     "text": [
      "Epoch 1/1\n",
      "80/80 [==============================] - 17s 214ms/step - loss: 1217884.2262\b\b\b\b\b\b\b\b\b\b\b\b\b\b\b\b\b\b\b\b\b\b\b\b\b\b\b\b\b\b\b\b\b\b\b\b\b\b\b\b\b\b\b\b\b\b\b\b\b\b\b\b\b\b\b\b\b\b\b\b\b\b\b\b\b\b\b\b\b\b\b\b\b\b\b\b\b\b\b\b\b\b\b\b\b\b\b\b\b\b\b\b\b\b\b\b\b\b\b\b\b\b\b\b\b\b\b\b\b\b\b\b\b\b\b\b\b\b\b\b\b\b\b\b\b\b\n",
      "20/20 [==============================] - 1s 59ms/step\n",
      "Test-Loss: 1658543.5\n"
     ]
    }
   ],
   "source": [
    "m_batch_size = 32\n",
    "model = Sequential()\n",
    "# 1.Layer\n",
    "model.add(Conv2D(32, (3, 3), activation='sigmoid', input_shape=(x_train.shape[1], x_train.shape[2], 1)))\n",
    "model.add(Conv2D(32, (3, 3), activation='sigmoid'))\n",
    "model.add(MaxPooling2D(pool_size=(2, 2)))\n",
    "model.add(Dropout(0.25))\n",
    "\n",
    "# 2.Layer\n",
    "model.add(Conv2D(64, (3, 3), activation='sigmoid'))\n",
    "model.add(Conv2D(64, (3, 3), activation='sigmoid'))\n",
    "model.add(MaxPooling2D(pool_size=(2, 2)))\n",
    "model.add(Dropout(0.25))\n",
    "\n",
    "# 3.Layer\n",
    "model.add(Conv2D(64, (3, 3), activation='sigmoid'))\n",
    "model.add(Conv2D(64, (3, 3), activation='sigmoid'))\n",
    "model.add(MaxPooling2D(pool_size=(2, 2)))\n",
    "model.add(Dropout(0.25))\n",
    "\n",
    "model.add(Flatten())\n",
    "model.add(Dense(y_train.shape[1], activation='linear'))\n",
    "model.compile(optimizer='rmsprop',\n",
    "              loss='mse')\n",
    "model.fit(x_train, y_train,\n",
    "          epochs=1,\n",
    "          batch_size=m_batch_size)\n",
    "score = model.evaluate(x_test, y_test, batch_size=m_batch_size)\n",
    "print(\"Test-Loss: \" + str(score))"
   ]
  },
  {
   "cell_type": "code",
   "execution_count": 64,
   "metadata": {
    "collapsed": false,
    "deletable": true,
    "editable": true
   },
   "outputs": [
    {
     "data": {
      "text/plain": [
       "213"
      ]
     },
     "execution_count": 64,
     "metadata": {},
     "output_type": "execute_result"
    }
   ],
   "source": []
  },
  {
   "cell_type": "code",
   "execution_count": 61,
   "metadata": {
    "collapsed": false,
    "deletable": true,
    "editable": true
   },
   "outputs": [
    {
     "data": {
      "text/plain": [
       "213"
      ]
     },
     "execution_count": 61,
     "metadata": {},
     "output_type": "execute_result"
    }
   ],
   "source": []
  },
  {
   "cell_type": "code",
   "execution_count": 65,
   "metadata": {
    "collapsed": false,
    "deletable": true,
    "editable": true
   },
   "outputs": [
    {
     "data": {
      "text/plain": [
       "84636.2890625"
      ]
     },
     "execution_count": 65,
     "metadata": {},
     "output_type": "execute_result"
    }
   ],
   "source": [
    "score"
   ]
  },
  {
   "cell_type": "code",
   "execution_count": null,
   "metadata": {
    "collapsed": true,
    "deletable": true,
    "editable": true
   },
   "outputs": [],
   "source": []
  }
 ],
 "metadata": {
  "kernelspec": {
   "display_name": "Python 3",
   "language": "python",
   "name": "python3"
  },
  "language_info": {
   "codemirror_mode": {
    "name": "ipython",
    "version": 3
   },
   "file_extension": ".py",
   "mimetype": "text/x-python",
   "name": "python",
   "nbconvert_exporter": "python",
   "pygments_lexer": "ipython3",
   "version": "3.5.3"
  }
 },
 "nbformat": 4,
 "nbformat_minor": 2
}
